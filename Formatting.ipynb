{
 "cells": [
  {
   "cell_type": "markdown",
   "id": "1934e83c",
   "metadata": {},
   "source": [
    "# Formatting with f'strings"
   ]
  },
  {
   "cell_type": "code",
   "execution_count": 1,
   "id": "330daaa1",
   "metadata": {},
   "outputs": [
    {
     "name": "stdout",
     "output_type": "stream",
     "text": [
      "The value is 5\n",
      "The reply was: Hello\n",
      "The reply was really: \"Hello\"\n"
     ]
    }
   ],
   "source": [
    "# str = f'Some text {value}'\n",
    "# the thing between {} get's evaluated and placed in the string\n",
    "\n",
    "value = 5\n",
    "s1 = f'The value is {value}'\n",
    "print(s1)\n",
    "\n",
    "reply = 'Hello'\n",
    "s2 = f'The reply was: {reply}'\n",
    "print(s2)\n",
    "\n",
    "#escape \" using \\\n",
    "s3 = f'The reply was really: \\\"{reply}\\\"'\n",
    "print(s3)"
   ]
  },
  {
   "cell_type": "code",
   "execution_count": 2,
   "id": "35cab233",
   "metadata": {},
   "outputs": [
    {
     "name": "stdout",
     "output_type": "stream",
     "text": [
      "Pi is 3.14 or more precisely 3.141592653589793116\n",
      "Index: 00023\n"
     ]
    }
   ],
   "source": [
    "#support for format specifiers \n",
    "import numpy as np\n",
    "\n",
    "print(f\"Pi is {np.pi:.3} or more precisely {np.pi:.20}\")\n",
    "\n",
    "#padding\n",
    "i = 23\n",
    "print(f'Index: {i:05}')\n"
   ]
  },
  {
   "cell_type": "code",
   "execution_count": 3,
   "id": "bdc5e523",
   "metadata": {},
   "outputs": [
    {
     "name": "stdout",
     "output_type": "stream",
     "text": [
      "The directory is: /path/to and the file name is: file.raw\n",
      "The other file is: /path/to/data_008.h5\n"
     ]
    }
   ],
   "source": [
    "#plays well with pathlib.Path\n",
    "from pathlib import Path\n",
    "fpath = Path('/path/to/file.raw')\n",
    "\n",
    "print(f\"The directory is: {fpath.parent} and the file name is: {fpath.name}\")\n",
    "\n",
    "i = 8\n",
    "another_file = fpath.parent/f'data_{i:03}.h5'\n",
    "print(f'The other file is: {another_file}')"
   ]
  },
  {
   "cell_type": "code",
   "execution_count": 4,
   "id": "d23edbbc",
   "metadata": {},
   "outputs": [
    {
     "name": "stdout",
     "output_type": "stream",
     "text": [
      "5x5 = 25\n"
     ]
    }
   ],
   "source": [
    "#supports evaluation inside {}\n",
    "\n",
    "print(f\"5x5 = {5*5}\")"
   ]
  },
  {
   "cell_type": "code",
   "execution_count": null,
   "id": "e0783945",
   "metadata": {},
   "outputs": [],
   "source": []
  }
 ],
 "metadata": {
  "kernelspec": {
   "display_name": "Python 3 (ipykernel)",
   "language": "python",
   "name": "python3"
  },
  "language_info": {
   "codemirror_mode": {
    "name": "ipython",
    "version": 3
   },
   "file_extension": ".py",
   "mimetype": "text/x-python",
   "name": "python",
   "nbconvert_exporter": "python",
   "pygments_lexer": "ipython3",
   "version": "3.9.10"
  }
 },
 "nbformat": 4,
 "nbformat_minor": 5
}
