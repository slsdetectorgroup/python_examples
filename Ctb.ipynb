{
 "cells": [
  {
   "cell_type": "markdown",
   "metadata": {},
   "source": [
    "# Examples using Ctb "
   ]
  },
  {
   "cell_type": "markdown",
   "metadata": {},
   "source": [
    "## Setting up\n",
    "\n",
    "When setting up from scratch it's possible to run the config file from python"
   ]
  },
  {
   "cell_type": "code",
   "execution_count": 1,
   "metadata": {},
   "outputs": [],
   "source": [
    "from sls_detector import Ctb\n",
    "d = Ctb()\n",
    "d.config = '/home/l_frojdh/virtual.config'"
   ]
  },
  {
   "cell_type": "markdown",
   "metadata": {},
   "source": [
    "## Reading/Setting dacs"
   ]
  },
  {
   "cell_type": "code",
   "execution_count": 2,
   "metadata": {},
   "outputs": [
    {
     "data": {
      "text/plain": [
       "========== DACS =========\n",
       "dac0      : 1400\n",
       "dac1      : 1200\n",
       "dac2      :  900\n",
       "dac3      : 1050\n",
       "dac4      : 1400\n",
       "dac5      :  655\n",
       "dac6      : 2000\n",
       "dac7      : 1400\n",
       "dac8      :  850\n",
       "dac9      : 2000\n",
       "dac10     : 2294\n",
       "dac11     :  983\n",
       "dac12     : 1475\n",
       "dac13     : 1200\n",
       "dac14     : 1600\n",
       "dac15     : 1455\n",
       "dac16     :    0\n",
       "dac17     : 1000"
      ]
     },
     "execution_count": 2,
     "metadata": {},
     "output_type": "execute_result"
    }
   ],
   "source": [
    "#Read all dacs\n",
    "d.dacs"
   ]
  },
  {
   "cell_type": "code",
   "execution_count": 3,
   "metadata": {},
   "outputs": [],
   "source": [
    "# Set single dac\n",
    "d.dacs.dac7 = 1500"
   ]
  },
  {
   "cell_type": "code",
   "execution_count": 4,
   "metadata": {},
   "outputs": [],
   "source": [
    "#Set to default value, as defined in Ctb class\n",
    "d.dacs.set_default() \n",
    "\n",
    "#Read to np array, this helps writing to disk manipulating values etc.\n",
    "arr = d.dacs.get_asarray()\n",
    "\n",
    "#Set from np array\n",
    "d.dacs.set_from_array(arr)"
   ]
  },
  {
   "cell_type": "markdown",
   "metadata": {},
   "source": [
    "## Finding available functions"
   ]
  },
  {
   "cell_type": "code",
   "execution_count": 5,
   "metadata": {},
   "outputs": [
    {
     "name": "stdout",
     "output_type": "stream",
     "text": [
      "fpath\n",
      "patclkctrl\n",
      "patioctrl\n",
      "patlimits\n",
      "patloop0\n",
      "patloop1\n",
      "patloop2\n",
      "patmask\n",
      "patnloop0\n",
      "patnloop1\n",
      "patnloop2\n",
      "pattern\n",
      "patwait0\n",
      "patwait1\n",
      "patwait2\n",
      "patwaittime0\n",
      "patwaittime1\n",
      "patwaittime2\n",
      "settingspath\n"
     ]
    }
   ],
   "source": [
    "from sls_detector.lookup import view, find\n",
    "\n",
    "# Print all detector functions that contains \"pat\"\n",
    "view(\"pat\")\n",
    "     \n",
    "# Return a list of functions containing \"pat\", useful for \n",
    "# further searching\n",
    "fn = find(\"pat\")\n",
    "\n",
    "# From the command line use sls_detector_get list | grep pat"
   ]
  },
  {
   "cell_type": "markdown",
   "metadata": {},
   "source": [
    "## Differneces between python and the command line\n",
    "Due to the syntax in Python it's not possible to replicate the command line behaviour always. For example get commans with a parameter cannot be implemented as "
   ]
  },
  {
   "cell_type": "code",
   "execution_count": null,
   "metadata": {},
   "outputs": [],
   "source": []
  }
 ],
 "metadata": {
  "kernelspec": {
   "display_name": "Python 3",
   "language": "python",
   "name": "python3"
  },
  "language_info": {
   "codemirror_mode": {
    "name": "ipython",
    "version": 3
   },
   "file_extension": ".py",
   "mimetype": "text/x-python",
   "name": "python",
   "nbconvert_exporter": "python",
   "pygments_lexer": "ipython3",
   "version": "3.7.6"
  }
 },
 "nbformat": 4,
 "nbformat_minor": 2
}
