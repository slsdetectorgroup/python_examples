{
 "cells": [
  {
   "cell_type": "markdown",
   "metadata": {},
   "source": [
    "# Save one array in a file\n",
    "\n",
    "Using np.save it is possible to save an array in a file. Numpy will atuomatically handle data type etc. "
   ]
  },
  {
   "cell_type": "code",
   "execution_count": 1,
   "metadata": {},
   "outputs": [],
   "source": [
    "import numpy as np\n",
    "\n",
    "#Create arrays\n",
    "x = np.arange(10)\n",
    "y = x**2\n",
    "\n",
    "#Save a single array (of any dimension) in a numpy binary file\n",
    "#np.save('filename', array)\n",
    "np.save('x_file', x)\n",
    "np.save('y_file', y)\n",
    "\n",
    "#Load data from files into array\n",
    "#array = np.load('filename')\n",
    "x2 = np.load('x_file.npy')\n",
    "y2 = np.load('y_file.npy')"
   ]
  },
  {
   "cell_type": "markdown",
   "metadata": {},
   "source": [
    "# Saving several arrays in one file\n",
    "\n",
    "Using np.savez it is also possible to save several arrays to one file. Loading the data it is recommended to use the with statement to handle opening and closing of the file"
   ]
  },
  {
   "cell_type": "code",
   "execution_count": 2,
   "metadata": {},
   "outputs": [],
   "source": [
    "#Save\n",
    "np.savez('some_arrays', x = x, y = y)\n",
    "\n",
    "#Load\n",
    "with np.load('some_arrays.npz') as f:\n",
    "    x3 = f['x']\n",
    "    y3 = f['x']"
   ]
  }
 ],
 "metadata": {
  "kernelspec": {
   "display_name": "Python 3",
   "language": "python",
   "name": "python3"
  },
  "language_info": {
   "codemirror_mode": {
    "name": "ipython",
    "version": 3
   },
   "file_extension": ".py",
   "mimetype": "text/x-python",
   "name": "python",
   "nbconvert_exporter": "python",
   "pygments_lexer": "ipython3",
   "version": "3.6.3"
  }
 },
 "nbformat": 4,
 "nbformat_minor": 2
}
