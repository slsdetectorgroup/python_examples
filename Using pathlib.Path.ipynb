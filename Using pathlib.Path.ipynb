{
 "cells": [
  {
   "cell_type": "markdown",
   "id": "112c3b54",
   "metadata": {},
   "source": [
    "# Using pathlib.Path\n",
    "\n",
    "pathlib.Path offers a object oriented way of manipulating paths. "
   ]
  },
  {
   "cell_type": "code",
   "execution_count": 1,
   "id": "2fb2df61",
   "metadata": {},
   "outputs": [],
   "source": [
    "from pathlib import Path"
   ]
  },
  {
   "cell_type": "code",
   "execution_count": 4,
   "id": "324c3dbc",
   "metadata": {},
   "outputs": [
    {
     "name": "stdout",
     "output_type": "stream",
     "text": [
      "/some/path/to/a/file.raw\n",
      "pathlib.Path works well with f'strings. This is our path: /some/path/to/a/file.raw\n"
     ]
    }
   ],
   "source": [
    "my_path = Path('/some/path/to/a/file.raw')\n",
    "print(my_path)\n",
    "print(f'pathlib.Path works well with f\\'strings. This is our path: {my_path}')"
   ]
  },
  {
   "cell_type": "code",
   "execution_count": 8,
   "id": "5db00d45",
   "metadata": {},
   "outputs": [
    {
     "name": "stdout",
     "output_type": "stream",
     "text": [
      "The path is: /some/path/to/a\n",
      "and the file name is file.raw\n"
     ]
    }
   ],
   "source": [
    "print(f\"The path is: {my_path.parent}\")\n",
    "print(f\"and the file name is {my_path.name}\")"
   ]
  },
  {
   "cell_type": "markdown",
   "id": "731caaae",
   "metadata": {},
   "source": [
    "## convert to string"
   ]
  },
  {
   "cell_type": "code",
   "execution_count": 13,
   "id": "9965f264",
   "metadata": {},
   "outputs": [
    {
     "name": "stdout",
     "output_type": "stream",
     "text": [
      "<class 'str'>\n",
      "<class 'str'>\n",
      "<class 'str'>\n"
     ]
    }
   ],
   "source": [
    "#convert to string using f'strings\n",
    "my_str = f'{my_path}'\n",
    "print(type(my_str))\n",
    "\n",
    "#convert to string using as_posix (forward / posix style path)\n",
    "my_other_string = my_path.as_posix()\n",
    "print(type(my_other_string))\n",
    "\n",
    "#or with str()\n",
    "yet_another_string = str(my_path)\n",
    "print(type(yet_another_string))"
   ]
  },
  {
   "cell_type": "markdown",
   "id": "2b848ff2",
   "metadata": {},
   "source": [
    "## from string to Path"
   ]
  },
  {
   "cell_type": "code",
   "execution_count": 16,
   "id": "0a8a5ad6",
   "metadata": {},
   "outputs": [],
   "source": [
    "#using the constructor\n",
    "my_path = Path(\"/some/path\")"
   ]
  },
  {
   "cell_type": "markdown",
   "id": "9d0f75bf",
   "metadata": {},
   "source": [
    "## function that takes a string or a Path"
   ]
  },
  {
   "cell_type": "code",
   "execution_count": 20,
   "id": "740fc44f",
   "metadata": {},
   "outputs": [],
   "source": [
    "def some_func(path):\n",
    "    path = Path(path)\n",
    "    #now we know that path is a path \n",
    "    #then we can use the same calls\n",
    "    \n",
    "my_string = '/some/path/to/a/file.raw'\n",
    "my_path = Path(\"/some/path\")\n",
    "\n",
    "some_func(my_string)\n",
    "some_func(my_path)"
   ]
  },
  {
   "cell_type": "markdown",
   "id": "3cbe554d",
   "metadata": {},
   "source": [
    "## build up a path"
   ]
  },
  {
   "cell_type": "code",
   "execution_count": null,
   "id": "f06124c0",
   "metadata": {},
   "outputs": [],
   "source": [
    "base_path = Path('/some/path/to/stuff')\n",
    "base_name = 'file'\n",
    "\n",
    "for i in range(5):\n",
    "    f = base_path/f'{base_name}_{i}'"
   ]
  }
 ],
 "metadata": {
  "kernelspec": {
   "display_name": "Python 3 (ipykernel)",
   "language": "python",
   "name": "python3"
  },
  "language_info": {
   "codemirror_mode": {
    "name": "ipython",
    "version": 3
   },
   "file_extension": ".py",
   "mimetype": "text/x-python",
   "name": "python",
   "nbconvert_exporter": "python",
   "pygments_lexer": "ipython3",
   "version": "3.9.10"
  }
 },
 "nbformat": 4,
 "nbformat_minor": 5
}
