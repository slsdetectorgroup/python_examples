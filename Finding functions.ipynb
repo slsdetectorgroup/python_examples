{
 "cells": [
  {
   "cell_type": "markdown",
   "metadata": {},
   "source": [
    "# Find function names in slsdet"
   ]
  },
  {
   "cell_type": "code",
   "execution_count": 2,
   "metadata": {},
   "outputs": [],
   "source": [
    "from slsdet import Ctb, dacIndex\n",
    "from slsdet.lookup import view, find"
   ]
  },
  {
   "cell_type": "code",
   "execution_count": null,
   "metadata": {},
   "outputs": [],
   "source": [
    "#Listing function names in python can be done using dir and list comprehension\n",
    "\n",
    "[f for f in dir(Ctb) if ;;]"
   ]
  },
  {
   "cell_type": "code",
   "execution_count": 4,
   "metadata": {},
   "outputs": [
    {
     "name": "stdout",
     "output_type": "stream",
     "text": [
      "exptime\n",
      "getExptime\n",
      "getExptimeLeft\n",
      "getSubExptime\n",
      "setExptime\n",
      "setSubExptime\n",
      "subexptime\n"
     ]
    }
   ],
   "source": [
    "#View prints the found names\n",
    "view('exp')"
   ]
  },
  {
   "cell_type": "code",
   "execution_count": 7,
   "metadata": {},
   "outputs": [
    {
     "name": "stdout",
     "output_type": "stream",
     "text": [
      "0: exptime\n",
      "1: getExptime\n",
      "2: getExptimeLeft\n",
      "3: getSubExptime\n",
      "4: setExptime\n",
      "5: setSubExptime\n",
      "6: subexptime\n"
     ]
    }
   ],
   "source": [
    "#Find returns a list with the found names, that later can be used\n",
    "names = find('exp')\n",
    "for i, name in enumerate(names):\n",
    "    print(f'{i}: {name}')\n",
    "    "
   ]
  },
  {
   "cell_type": "code",
   "execution_count": 9,
   "metadata": {},
   "outputs": [
    {
     "name": "stdout",
     "output_type": "stream",
     "text": [
      "getSlowADC\n",
      "exptime\n",
      "getActualTime\n",
      "getExptime\n",
      "getExptimeLeft\n",
      "getMeasurementTime\n",
      "getPatternWaitTime\n",
      "getRxZmqTimer\n",
      "getSubDeadTime\n",
      "getSubExptime\n",
      "patwaittime0\n",
      "patwaittime1\n",
      "patwaittime2\n",
      "setExptime\n",
      "setPatternWaitTime\n",
      "setRxZmqTimer\n",
      "setSubDeadTime\n",
      "setSubExptime\n",
      "subdeadtime\n",
      "subexptime\n"
     ]
    }
   ],
   "source": [
    "#additionally the type of class, or the actual object can be passed\n",
    "view('slow', Ctb)\n",
    "\n",
    "d = Ctb()\n",
    "view('time', d)"
   ]
  },
  {
   "cell_type": "code",
   "execution_count": null,
   "metadata": {},
   "outputs": [],
   "source": []
  }
 ],
 "metadata": {
  "kernelspec": {
   "display_name": "Python 3",
   "language": "python",
   "name": "python3"
  },
  "language_info": {
   "codemirror_mode": {
    "name": "ipython",
    "version": 3
   },
   "file_extension": ".py",
   "mimetype": "text/x-python",
   "name": "python",
   "nbconvert_exporter": "python",
   "pygments_lexer": "ipython3",
   "version": "3.7.6"
  }
 },
 "nbformat": 4,
 "nbformat_minor": 4
}
