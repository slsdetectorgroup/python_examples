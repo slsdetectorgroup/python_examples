{
 "cells": [
  {
   "cell_type": "markdown",
   "metadata": {},
   "source": [
    "# Using CTB with Python"
   ]
  },
  {
   "cell_type": "code",
   "execution_count": 1,
   "metadata": {},
   "outputs": [
    {
     "data": {
      "text/plain": [
       "========== DACS =========\n",
       "dac0      :  2150\n",
       "dac1      :   900\n",
       "dac2      :  1050\n",
       "dac3      :  1300\n",
       "dac4      :   400\n",
       "dac5      :  1400\n",
       "dac6      :  1200\n",
       "dac7      :   655\n",
       "dac8      :  1400\n",
       "dac9      :  2300\n",
       "dac10     :  1474\n",
       "dac11     :  1520\n",
       "dac12     :  2294\n",
       "dac13     :   800\n",
       "dac14     :  1180\n",
       "dac15     :  2300\n",
       "dac16     :  1000\n",
       "dac17     :  2300"
      ]
     },
     "execution_count": 1,
     "metadata": {},
     "output_type": "execute_result"
    }
   ],
   "source": [
    "from sls_detector import JungfrauCTB\n",
    "\n",
    "d = JungfrauCTB()\n",
    "d.hostname = 'bchip173'\n",
    "d.dacs"
   ]
  },
  {
   "cell_type": "markdown",
   "metadata": {},
   "source": [
    "## patword\n",
    "\n",
    "patword can be set using a function or a property. When the property is used the value has to be an iterable of length two. Patword can't be read back. As for all commands the address and word can be either in binary or hex form."
   ]
  },
  {
   "cell_type": "code",
   "execution_count": 2,
   "metadata": {},
   "outputs": [],
   "source": [
    "#patword 0008 0000000000041404\n",
    "d.setPatternWord(0x8, 0x41404)\n",
    "d.patword = [0x8, 0x41404]"
   ]
  },
  {
   "cell_type": "markdown",
   "metadata": {},
   "source": [
    "## patioctrl\n",
    "\n",
    "Can be set and read back using a property. The return value is binray but can easily be printed as hex\n"
   ]
  },
  {
   "cell_type": "code",
   "execution_count": 3,
   "metadata": {},
   "outputs": [
    {
     "name": "stdout",
     "output_type": "stream",
     "text": [
      "patioctrl: 0xc000000000f47eff\n"
     ]
    }
   ],
   "source": [
    "# patioctrl c000000000f47eff\n",
    "d.patioctrl = 0xc000000000f47eff\n",
    "r = d.patioctrl\n",
    "print(f'patioctrl: {r:#016x}')"
   ]
  },
  {
   "cell_type": "code",
   "execution_count": 4,
   "metadata": {},
   "outputs": [
    {
     "name": "stdout",
     "output_type": "stream",
     "text": [
      "patclkctrl: 0x00000000000000\n"
     ]
    }
   ],
   "source": [
    "# patclkctrl 0000000000000000\n",
    "d.patclkctrl = 0\n",
    "print(f'patclkctrl: {d.patclkctrl:#016x}')"
   ]
  },
  {
   "cell_type": "code",
   "execution_count": 5,
   "metadata": {},
   "outputs": [
    {
     "data": {
      "text/plain": [
       "[0, 108]"
      ]
     },
     "execution_count": 5,
     "metadata": {},
     "output_type": "execute_result"
    }
   ],
   "source": [
    "# patlimits 0000 006c\n",
    "d.patlimits = [0, 0x6c]\n",
    "d.patlimits"
   ]
  },
  {
   "cell_type": "markdown",
   "metadata": {},
   "source": [
    "## patloop0, patnloop0\n",
    "\n",
    "The pattern loop controls can be accessed using the property with an iterable or using the setPatternLoops function. \n",
    "\n",
    "The property is mostly there for compatibility with the command line but we should discuss the API since everything can be done from the functions"
   ]
  },
  {
   "cell_type": "code",
   "execution_count": 6,
   "metadata": {},
   "outputs": [
    {
     "name": "stdout",
     "output_type": "stream",
     "text": [
      "patloop0: [38, 40]\n",
      "patnloop0: 20\n",
      "d.getPatternLoops(0): [38, 40, 15]\n"
     ]
    }
   ],
   "source": [
    "# patloop0 0026 0028\n",
    "d.patloop0 = [0x26, 0x28]\n",
    "print(f'patloop0: {d.patloop0}')\n",
    "\n",
    "# patnloop0 20\n",
    "d.patnloop0 = 20\n",
    "print(f'patnloop0: {d.patnloop0}')\n",
    "\n",
    "d.setPatternLoops(0, 0x26, 0x28, 15)\n",
    "print(f'd.getPatternLoops(0): {d.getPatternLoops(0)}')\n",
    "\n",
    "\n",
    "# patloop1 003a 0069\n",
    "d.patloop1 = [0x3a, 0x69]\n",
    "\n",
    "# patnloop1 96\n",
    "d.patnloop1 = 0x96\n",
    "\n",
    "# patloop2 0400 0400\n",
    "d.patloop2 = 0x400, 0x400\n",
    "\n",
    "# patnloop2 0\n",
    "d.patnloop2 = 0"
   ]
  },
  {
   "cell_type": "markdown",
   "metadata": {},
   "source": [
    "## Using the function notation allows for more compact code"
   ]
  },
  {
   "cell_type": "code",
   "execution_count": 7,
   "metadata": {},
   "outputs": [],
   "source": [
    "# patloop0 0026 0028\n",
    "# patnloop0 20\n",
    "# patloop1 003a 0069\n",
    "# patnloop1 96\n",
    "# patloop2 0400 0400\n",
    "# patnloop2 0\n",
    "\n",
    "d.setPatternLoops(0, 0x26, 0x28, 20)\n",
    "d.setPatternLoops(0, 0x3a, 0x69, 96)\n",
    "d.setPatternLoops(0, 0x400, 0x400, 0)"
   ]
  },
  {
   "cell_type": "markdown",
   "metadata": {},
   "source": [
    "## patwait, patwaittime\n",
    "\n",
    "Again both the property based notation as well as the function notation is available\n"
   ]
  },
  {
   "cell_type": "code",
   "execution_count": 8,
   "metadata": {},
   "outputs": [],
   "source": [
    "# patwait0 0024\n",
    "d.patwait0 = 0x24\n",
    "print(f'patwait0: {d.patwait0:}')\n",
    "\n",
    "# patwaittime0 8000000\n",
    "d.patwaittime0 = 8000000\n",
    "\n",
    "\n",
    "# patwait1 0400\n",
    "d.patwait1 = 0x400\n",
    "\n",
    "# patwaittime1 0\n",
    "d.patwaittime1 = 0\n",
    "\n",
    "# patwait2 0400\n",
    "d.patwait2 = 0x400\n",
    "\n",
    "# patwaittime2 0\n",
    "d.patwaittime2 = 0"
   ]
  },
  {
   "cell_type": "code",
   "execution_count": 10,
   "metadata": {},
   "outputs": [],
   "source": [
    "d.setPatternWaitAddr(0, 0x24)\n",
    "d.setPatternWaitAddr(0, 0x24)\n",
    "d.setPatternWaitAddr(0, 0x24)\n",
    "d.setPatternWaitTime(0, 8000000)\n",
    "d.setPatternWaitTime(1, 0x400)\n",
    "d.setPatternWaitTime(2, 0x400)"
   ]
  },
  {
   "cell_type": "code",
   "execution_count": null,
   "metadata": {},
   "outputs": [],
   "source": []
  }
 ],
 "metadata": {
  "kernelspec": {
   "display_name": "Python 3",
   "language": "python",
   "name": "python3"
  },
  "language_info": {
   "codemirror_mode": {
    "name": "ipython",
    "version": 3
   },
   "file_extension": ".py",
   "mimetype": "text/x-python",
   "name": "python",
   "nbconvert_exporter": "python",
   "pygments_lexer": "ipython3",
   "version": "3.7.3"
  }
 },
 "nbformat": 4,
 "nbformat_minor": 2
}
