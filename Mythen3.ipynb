{
 "cells": [
  {
   "cell_type": "markdown",
   "metadata": {},
   "source": [
    "# Mythen3 examples"
   ]
  },
  {
   "cell_type": "code",
   "execution_count": 2,
   "metadata": {},
   "outputs": [],
   "source": [
    "from sls_detector import Mythen3\n",
    "d = Mythen3()"
   ]
  },
  {
   "cell_type": "markdown",
   "metadata": {},
   "source": [
    "## Reading and setting da"
   ]
  },
  {
   "cell_type": "code",
   "execution_count": 3,
   "metadata": {},
   "outputs": [
    {
     "data": {
      "text/plain": [
       "========== DACS =========\n",
       "vcassh    : 1200\n",
       "vth2      : 2800\n",
       "vshaper   : 1280\n",
       "vshaperneg: 2800\n",
       "vipre_out : 1220\n",
       "vth3      : 2800\n",
       "vth1      : 2800\n",
       "vicin     : 1708\n",
       "vcas      : 1800\n",
       "vpreamp   : 1100\n",
       "vpl       : 1100\n",
       "vipre     : 2624\n",
       "viinsh    : 1708\n",
       "vph       : 1712\n",
       "vtrim     : 2800\n",
       "vdcsh     :  800"
      ]
     },
     "execution_count": 3,
     "metadata": {},
     "output_type": "execute_result"
    }
   ],
   "source": [
    "d.dacs"
   ]
  },
  {
   "cell_type": "code",
   "execution_count": 4,
   "metadata": {},
   "outputs": [],
   "source": [
    "d.dacs.vth2 = 2500"
   ]
  },
  {
   "cell_type": "code",
   "execution_count": 5,
   "metadata": {},
   "outputs": [
    {
     "data": {
      "text/plain": [
       "========== DACS =========\n",
       "vcassh    : 1200\n",
       "vth2      : 2500\n",
       "vshaper   : 1280\n",
       "vshaperneg: 2800\n",
       "vipre_out : 1220\n",
       "vth3      : 2800\n",
       "vth1      : 2800\n",
       "vicin     : 1708\n",
       "vcas      : 1800\n",
       "vpreamp   : 1100\n",
       "vpl       : 1100\n",
       "vipre     : 2624\n",
       "viinsh    : 1708\n",
       "vph       : 1712\n",
       "vtrim     : 2800\n",
       "vdcsh     :  800"
      ]
     },
     "execution_count": 5,
     "metadata": {},
     "output_type": "execute_result"
    }
   ],
   "source": [
    "d.dacs"
   ]
  },
  {
   "cell_type": "code",
   "execution_count": 6,
   "metadata": {},
   "outputs": [
    {
     "data": {
      "text/plain": [
       "vth2      : 2500"
      ]
     },
     "execution_count": 6,
     "metadata": {},
     "output_type": "execute_result"
    }
   ],
   "source": [
    "d.dacs.vth2"
   ]
  },
  {
   "cell_type": "code",
   "execution_count": null,
   "metadata": {},
   "outputs": [],
   "source": []
  }
 ],
 "metadata": {
  "kernelspec": {
   "display_name": "Python 3",
   "language": "python",
   "name": "python3"
  },
  "language_info": {
   "codemirror_mode": {
    "name": "ipython",
    "version": 3
   },
   "file_extension": ".py",
   "mimetype": "text/x-python",
   "name": "python",
   "nbconvert_exporter": "python",
   "pygments_lexer": "ipython3",
   "version": "3.7.6"
  }
 },
 "nbformat": 4,
 "nbformat_minor": 2
}
