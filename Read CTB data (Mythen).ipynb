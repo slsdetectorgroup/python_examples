{
 "cells": [
  {
   "cell_type": "markdown",
   "metadata": {},
   "source": [
    "# Reading CTB Mythen data with Python\n",
    "\n",
    "This is a first example on how data can be read in Python using. We will need to add more configuration options later."
   ]
  },
  {
   "cell_type": "code",
   "execution_count": 1,
   "metadata": {},
   "outputs": [],
   "source": [
    "#Adding paths, this is normally not needed\n",
    "import sys\n",
    "sys.path.append('/home/l_frojdh/slsdetectorgroup/build/bin')\n",
    "sys.path.append('/home/l_frojdh/slsdetectorgroup/sls_detector_tools/')\n"
   ]
  },
  {
   "cell_type": "code",
   "execution_count": 2,
   "metadata": {},
   "outputs": [],
   "source": [
    "import numpy as np\n",
    "import matplotlib.pyplot as plt\n",
    "from _sls_detector.io import read_ctb_file\n",
    "from sls_detector_tools.plot import imshow"
   ]
  },
  {
   "cell_type": "markdown",
   "metadata": {},
   "source": [
    "## Read threshold scan into numpy array"
   ]
  },
  {
   "cell_type": "code",
   "execution_count": null,
   "metadata": {},
   "outputs": [],
   "source": [
    "start = 600\n",
    "stop = 1800\n",
    "threshold = np.arange(start, stop, 1)\n",
    "\n",
    "nrow = stop-start\n",
    "ncol = 64*3\n",
    "data = np.zeros((nrow, ncol))\n",
    "\n",
    "for i, th in enumerate(threshold):\n",
    "    data[i] = read_ctb_file(f'/home/l_frojdh/mythendata/MoKbZr_30kV60mA_1s_200V_thr{th}_1.raw', 8, 24)\n",
    "\n"
   ]
  },
  {
   "cell_type": "markdown",
   "metadata": {},
   "source": [
    "## Plot data"
   ]
  },
  {
   "cell_type": "code",
   "execution_count": null,
   "metadata": {},
   "outputs": [],
   "source": [
    "ax, im = imshow(np.rot90(data), kwargs = {'extent': (start,stop,0,ncol)})\n",
    "ax.set_xlabel('Threshold [DAC]')\n",
    "ax.set_ylabel('Counter [1]');\n",
    "\n"
   ]
  },
  {
   "cell_type": "code",
   "execution_count": null,
   "metadata": {},
   "outputs": [],
   "source": [
    "fig, ax = plt.subplots(1,1, figsize=(14,7))\n",
    "for counter in np.random.randint(0,192,5):\n",
    "    ax.plot(data[:, counter], label = f'counter: {counter}')\n",
    "ax.set_ylim(0,5000)\n",
    "ax.set_xlabel('Threshold [DAC]')\n",
    "ax.set_ylabel('Counts [1]')\n",
    "ax.legend()\n",
    "ax.grid()"
   ]
  },
  {
   "cell_type": "code",
   "execution_count": null,
   "metadata": {},
   "outputs": [],
   "source": []
  }
 ],
 "metadata": {
  "kernelspec": {
   "display_name": "Python 3",
   "language": "python",
   "name": "python3"
  },
  "language_info": {
   "codemirror_mode": {
    "name": "ipython",
    "version": 3
   },
   "file_extension": ".py",
   "mimetype": "text/x-python",
   "name": "python",
   "nbconvert_exporter": "python",
   "pygments_lexer": "ipython3",
   "version": "3.7.2"
  }
 },
 "nbformat": 4,
 "nbformat_minor": 2
}
